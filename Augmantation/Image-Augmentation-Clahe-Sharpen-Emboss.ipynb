{
 "cells": [
  {
   "cell_type": "code",
   "execution_count": 1,
   "metadata": {},
   "outputs": [],
   "source": [
    "from PIL import Image,ImageFilter\n",
    "from matplotlib.pyplot import imshow\n",
    "import pandas as pd\n",
    "import os"
   ]
  },
  {
   "cell_type": "code",
   "execution_count": 2,
   "metadata": {},
   "outputs": [],
   "source": [
    "fnames = pd.read_csv('data/train.csv', usecols=['id'])"
   ]
  },
  {
   "cell_type": "code",
   "execution_count": 10,
   "metadata": {},
   "outputs": [],
   "source": [
    "def save_image_sharp():\n",
    "    if not os.path.exists('data_aug/train/images_sharp/'):\n",
    "        os.makedirs('data_aug/train/images_sharp/')\n",
    "    if not os.path.exists('data_aug/train/masks_sharp/'):\n",
    "        os.makedirs('data_aug/train/masks_sharp/')\n",
    "    for fname in fnames.id:\n",
    "        img = Image.open(f'data/train/images/{fname}.png')\n",
    "        mask = Image.open(f'data/train/masks/{fname}.png')\n",
    "        mask = mask.convert('RGB')\n",
    "        imgSharp = img.filter(ImageFilter.SHARPEN)\n",
    "        maskSharp = mask.filter(ImageFilter.SHARPEN)\n",
    "        \n",
    "        imgSharp.save(f'data_aug/train/images_sharp/{fname}.png')\n",
    "        maskSharp.save(f'data_aug/train/masks_sharp/{fname}.png')"
   ]
  },
  {
   "cell_type": "code",
   "execution_count": 6,
   "metadata": {},
   "outputs": [],
   "source": [
    "save_image_sharp()"
   ]
  },
  {
   "cell_type": "code",
   "execution_count": 8,
   "metadata": {},
   "outputs": [],
   "source": [
    "def save_image_emboss():\n",
    "    if not os.path.exists('data_aug/train/images_emboss/'):\n",
    "        os.makedirs('data_aug/train/images_emboss/')\n",
    "    if not os.path.exists('data_aug/train/masks_emboss/'):\n",
    "        os.makedirs('data_aug/train/masks_emboss/')\n",
    "    for fname in fnames.id:\n",
    "        img = Image.open(f'data/train/images/{fname}.png')\n",
    "        mask = Image.open(f'data/train/masks/{fname}.png')\n",
    "        mask = mask.convert('RGB')\n",
    "        imgSharp = img.filter(ImageFilter.EMBOSS)\n",
    "        maskSharp = mask.filter(ImageFilter.EMBOSS)\n",
    "        \n",
    "        imgSharp.save(f'data_aug/train/images_emboss/{fname}.png')\n",
    "        maskSharp.save(f'data_aug/train/masks_emboss/{fname}.png')"
   ]
  },
  {
   "cell_type": "code",
   "execution_count": 9,
   "metadata": {},
   "outputs": [],
   "source": [
    "save_image_emboss()"
   ]
  },
  {
   "cell_type": "code",
   "execution_count": 12,
   "metadata": {},
   "outputs": [],
   "source": [
    "import numpy as np\n",
    "import cv2"
   ]
  },
  {
   "cell_type": "code",
   "execution_count": 27,
   "metadata": {},
   "outputs": [],
   "source": [
    "def save_image_clahe():\n",
    "    if not os.path.exists('data_aug/train/images_clahe/'):\n",
    "        os.makedirs('data_aug/train/images_clahe/')\n",
    "    if not os.path.exists('data_aug/train/masks_clahe/'):\n",
    "        os.makedirs('data_aug/train/masks_clahe/')\n",
    "    for fname in fnames.id:\n",
    "        img = cv2.imread(f'data/train/images/{fname}.png', 0)\n",
    "        mask = cv2.imread(f'data/train/masks/{fname}.png', 0)\n",
    "        clahe = cv2.createCLAHE(clipLimit=2.0, tileGridSize=(8,8))\n",
    "        cl1 = clahe.apply(img)\n",
    "        cl2 = clahe.apply(mask)\n",
    "        \n",
    "        cv2.imwrite(f'data_aug/train/images_clahe/{fname}.png', cl1)\n",
    "        cv2.imwrite(f'data_aug/train/masks_clahe/{fname}.png', cl2)"
   ]
  },
  {
   "cell_type": "code",
   "execution_count": 28,
   "metadata": {},
   "outputs": [],
   "source": [
    "save_image_clahe()"
   ]
  },
  {
   "cell_type": "code",
   "execution_count": null,
   "metadata": {},
   "outputs": [],
   "source": []
  }
 ],
 "metadata": {
  "kernelspec": {
   "display_name": "Python 3",
   "language": "python",
   "name": "python3"
  },
  "language_info": {
   "codemirror_mode": {
    "name": "ipython",
    "version": 3
   },
   "file_extension": ".py",
   "mimetype": "text/x-python",
   "name": "python",
   "nbconvert_exporter": "python",
   "pygments_lexer": "ipython3",
   "version": "3.6.6"
  }
 },
 "nbformat": 4,
 "nbformat_minor": 2
}
