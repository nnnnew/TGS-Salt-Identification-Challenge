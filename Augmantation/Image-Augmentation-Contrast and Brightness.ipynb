{
 "cells": [
  {
   "cell_type": "code",
   "execution_count": 14,
   "metadata": {},
   "outputs": [],
   "source": [
    "from PIL import Image,ImageEnhance\n",
    "from matplotlib.pyplot import imshow\n",
    "import pandas as pd\n",
    "import os"
   ]
  },
  {
   "cell_type": "code",
   "execution_count": 15,
   "metadata": {},
   "outputs": [],
   "source": [
    "fnames = pd.read_csv('data/train.csv', usecols=['id'])"
   ]
  },
  {
   "cell_type": "code",
   "execution_count": 22,
   "metadata": {},
   "outputs": [],
   "source": [
    "def save_image():\n",
    "    if not os.path.exists('data_aug/train/images_contrast and brightness/'):\n",
    "        os.makedirs('data_aug/train/images_contrast and brightness/')\n",
    "    if not os.path.exists('data_aug/train/masks_contrast and brightness/'):\n",
    "        os.makedirs('data_aug/train/masks_contrast and brightness/')\n",
    "    for fname in fnames.id:\n",
    "        img = Image.open(f'data/train/images/{fname}.png')\n",
    "        mask = Image.open(f'data/train/masks/{fname}.png')\n",
    "        mask = mask.convert('RGB')\n",
    "        enhance = ImageEnhance.Contrast(img)\n",
    "        imgCon = enhance.enhance(0.9)\n",
    "        enhance = ImageEnhance.Brightness(imgCon)\n",
    "        imgConBri = enhance.enhance(0.9)\n",
    "        \n",
    "        enhance = ImageEnhance.Contrast(mask)\n",
    "        maskCon = enhance.enhance(0.9)\n",
    "        enhance = ImageEnhance.Brightness(maskCon)\n",
    "        maskConBri = enhance.enhance(0.9)\n",
    "\n",
    "        imgConBri.save(f'data_aug/train/images_contrast and brightness/{fname}.png')\n",
    "        maskConBri.save(f'data_aug/train/masks_contrast and brightness/{fname}.png')"
   ]
  },
  {
   "cell_type": "code",
   "execution_count": 23,
   "metadata": {},
   "outputs": [],
   "source": [
    "save_image()"
   ]
  },
  {
   "cell_type": "code",
   "execution_count": null,
   "metadata": {},
   "outputs": [],
   "source": []
  }
 ],
 "metadata": {
  "kernelspec": {
   "display_name": "Python 3",
   "language": "python",
   "name": "python3"
  },
  "language_info": {
   "codemirror_mode": {
    "name": "ipython",
    "version": 3
   },
   "file_extension": ".py",
   "mimetype": "text/x-python",
   "name": "python",
   "nbconvert_exporter": "python",
   "pygments_lexer": "ipython3",
   "version": "3.6.6"
  }
 },
 "nbformat": 4,
 "nbformat_minor": 2
}
