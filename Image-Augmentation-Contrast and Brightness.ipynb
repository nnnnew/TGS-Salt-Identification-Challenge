{
 "cells": [
  {
   "cell_type": "code",
   "execution_count": 1,
   "metadata": {},
   "outputs": [],
   "source": [
    "from PIL import Image,ImageEnhance\n",
    "from matplotlib.pyplot import imshow\n",
    "import pandas as pd\n",
    "import os"
   ]
  },
  {
   "cell_type": "code",
   "execution_count": 2,
   "metadata": {},
   "outputs": [],
   "source": [
    "fnames = pd.read_csv('data/train.csv', usecols=['id'])"
   ]
  },
  {
   "cell_type": "code",
   "execution_count": 22,
   "metadata": {},
   "outputs": [],
   "source": [
    "def save_image():\n",
    "    if not os.path.exists('data_aug/train/images_contrast and brightness/'):\n",
    "        os.makedirs('data_aug/train/images_contrast and brightness/')\n",
    "    if not os.path.exists('data_aug/train/masks_contrast and brightness/'):\n",
    "        os.makedirs('data_aug/train/masks_contrast and brightness/')\n",
    "    for fname in fnames.id:\n",
    "        img = Image.open(f'data/train/images/{fname}.png')\n",
    "        mask = Image.open(f'data/train/masks/{fname}.png')\n",
    "        mask = mask.convert('RGB')\n",
    "        enhance = ImageEnhance.Contrast(img)\n",
    "        imgCon = enhance.enhance(0.9)\n",
    "        enhance = ImageEnhance.Brightness(imgCon)\n",
    "        imgConBri = enhance.enhance(0.9)\n",
    "        \n",
    "        enhance = ImageEnhance.Contrast(mask)\n",
    "        maskCon = enhance.enhance(0.9)\n",
    "        enhance = ImageEnhance.Brightness(maskCon)\n",
    "        maskConBri = enhance.enhance(0.9)\n",
    "\n",
    "        imgConBri.save(f'data_aug/train/images_contrast and brightness/{fname}.png')\n",
    "        maskConBri.save(f'data_aug/train/masks_contrast and brightness/{fname}.png')"
   ]
  },
  {
   "cell_type": "code",
   "execution_count": 23,
   "metadata": {},
   "outputs": [],
   "source": [
    "save_image()"
   ]
  },
  {
   "cell_type": "code",
   "execution_count": 3,
   "metadata": {},
   "outputs": [],
   "source": [
    "def save_image_crop():\n",
    "    if not os.path.exists('data_aug/train_crop/images_contrast and brightness/'):\n",
    "        os.makedirs('data_aug/train_crop/images_contrast and brightness/')\n",
    "    if not os.path.exists('data_aug/train_crop/masks_contrast and brightness/'):\n",
    "        os.makedirs('data_aug/train_crop/masks_contrast and brightness/')\n",
    "    for fname in fnames.id:\n",
    "        imgLeftUpper = Image.open(f'data_aug/train_crop/images/{fname}-leftUpper.png')\n",
    "        maskLeftUpper = Image.open(f'data_aug/train_crop/masks/{fname}-leftUpper.png')\n",
    "        imgLeftBottom = Image.open(f'data_aug/train_crop/images/{fname}-leftBottom.png')\n",
    "        maskLeftBottom = Image.open(f'data_aug/train_crop/masks/{fname}-leftBottom.png')\n",
    "        imgRightUpper = Image.open(f'data_aug/train_crop/images/{fname}-rightUpper.png')\n",
    "        maskRightUpper = Image.open(f'data_aug/train_crop/masks/{fname}-rightUpper.png')\n",
    "        imgRightBottom = Image.open(f'data_aug/train_crop/images/{fname}-rightBottom.png')\n",
    "        maskRightBottom = Image.open(f'data_aug/train_crop/masks/{fname}-rightBottom.png')\n",
    "        \n",
    "        maskLeftUpper = maskLeftUpper.convert('RGB')\n",
    "        maskLeftBottom = maskLeftBottom.convert('RGB')\n",
    "        maskRightUpper = maskRightUpper.convert('RGB')\n",
    "        maskRightBottom = maskRightBottom.convert('RGB')\n",
    "        \n",
    "        imgLeftUpper = ImageEnhance.Contrast(imgLeftUpper)\n",
    "        imgLeftUpper = imgLeftUpper.enhance(0.9)\n",
    "        imgLeftBottom = ImageEnhance.Contrast(imgLeftBottom)\n",
    "        imgLeftBottom = imgLeftBottom.enhance(0.9)\n",
    "        imgRightUpper = ImageEnhance.Contrast(imgRightUpper)\n",
    "        imgRightUpper = imgRightUpper.enhance(0.9)\n",
    "        imgRightBottom = ImageEnhance.Contrast(imgRightBottom)\n",
    "        imgRightBottom = imgRightBottom.enhance(0.9)\n",
    "        \n",
    "        maskLeftUpper = ImageEnhance.Contrast(maskLeftUpper)\n",
    "        maskLeftUpper = maskLeftUpper.enhance(0.9)\n",
    "        maskLeftBottom = ImageEnhance.Contrast(maskLeftBottom)\n",
    "        maskLeftBottom = maskLeftBottom.enhance(0.9)\n",
    "        maskRightUpper = ImageEnhance.Contrast(maskRightUpper)\n",
    "        maskRightUpper = maskRightUpper.enhance(0.9)\n",
    "        maskRightBottom = ImageEnhance.Contrast(maskRightBottom)\n",
    "        maskRightBottom = maskRightBottom.enhance(0.9)\n",
    "\n",
    "        imgLeftUpper.save(f'data_aug/train_crop/images_contrast and brightness/{fname}-leftUpper.png')\n",
    "        maskLeftUpper.save(f'data_aug/train_crop/masks_contrast and brightness/{fname}-leftUpper.png')\n",
    "        imgLeftBottom.save(f'data_aug/train_crop/images_contrast and brightness/{fname}-leftBottom.png')\n",
    "        maskLeftBottom.save(f'data_aug/train_crop/masks_contrast and brightness/{fname}-leftBottom.png')\n",
    "        imgRightUpper.save(f'data_aug/train_crop/images_contrast and brightness/{fname}-rightUpper.png')\n",
    "        maskRightUpper.save(f'data_aug/train_crop/masks_contrast and brightness/{fname}-rightUpper.png')\n",
    "        imgRightBottom.save(f'data_aug/train_crop/images_contrast and brightness/{fname}-rightBottom.png')\n",
    "        maskRightBottom.save(f'data_aug/train_crop/masks_contrast and brightness/{fname}-rightBottom.png')"
   ]
  },
  {
   "cell_type": "code",
   "execution_count": 4,
   "metadata": {},
   "outputs": [],
   "source": [
    "save_image_crop()"
   ]
  },
  {
   "cell_type": "code",
   "execution_count": null,
   "metadata": {},
   "outputs": [],
   "source": []
  }
 ],
 "metadata": {
  "kernelspec": {
   "display_name": "Python 3",
   "language": "python",
   "name": "python3"
  },
  "language_info": {
   "codemirror_mode": {
    "name": "ipython",
    "version": 3
   },
   "file_extension": ".py",
   "mimetype": "text/x-python",
   "name": "python",
   "nbconvert_exporter": "python",
   "pygments_lexer": "ipython3",
   "version": "3.6.6"
  }
 },
 "nbformat": 4,
 "nbformat_minor": 2
}
