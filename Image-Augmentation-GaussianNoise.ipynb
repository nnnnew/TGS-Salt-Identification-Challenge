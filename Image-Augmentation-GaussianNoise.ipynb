{
 "cells": [
  {
   "cell_type": "code",
   "execution_count": 1,
   "metadata": {},
   "outputs": [],
   "source": [
    "from matplotlib.pyplot import imshow\n",
    "import pandas as pd\n",
    "import os\n",
    "import cv2\n",
    "import numpy as np"
   ]
  },
  {
   "cell_type": "code",
   "execution_count": 2,
   "metadata": {},
   "outputs": [],
   "source": [
    "fnames = pd.read_csv('data/train.csv', usecols=['id'])"
   ]
  },
  {
   "cell_type": "code",
   "execution_count": 3,
   "metadata": {},
   "outputs": [],
   "source": [
    "def add_gaussian_noise(image_in, noise_sigma):\n",
    "    temp_image = np.float64(np.copy(image_in))\n",
    "\n",
    "    h = temp_image.shape[0]\n",
    "    w = temp_image.shape[1]\n",
    "    noise = np.random.randn(h, w) * noise_sigma\n",
    "\n",
    "    noisy_image = np.zeros(temp_image.shape, np.float64)\n",
    "    if len(temp_image.shape) == 2:\n",
    "        noisy_image = temp_image + noise\n",
    "    else:\n",
    "        noisy_image[:,:,0] = temp_image[:,:,0] + noise\n",
    "        noisy_image[:,:,1] = temp_image[:,:,1] + noise\n",
    "        noisy_image[:,:,2] = temp_image[:,:,2] + noise\n",
    "\n",
    "    \"\"\"\n",
    "    print('min,max = ', np.min(noisy_image), np.max(noisy_image))\n",
    "    print('type = ', type(noisy_image[0][0][0]))\n",
    "    \"\"\"\n",
    "\n",
    "    return noisy_image"
   ]
  },
  {
   "cell_type": "code",
   "execution_count": 10,
   "metadata": {},
   "outputs": [],
   "source": [
    "def save_image_gaussian_noise():\n",
    "    if not os.path.exists('data_aug/train/images_gaussian noise/'):\n",
    "        os.makedirs('data_aug/train/images_gaussian noise/')\n",
    "    if not os.path.exists('data_aug/train/masks_gaussian noise/'):\n",
    "        os.makedirs('data_aug/train/masks_gaussian noise/')\n",
    "    for fname in fnames.id:\n",
    "        img = cv2.imread(f'data/train/images/{fname}.png', cv2.IMREAD_UNCHANGED)\n",
    "        mask = cv2.imread(f'data/train/masks/{fname}.png', cv2.IMREAD_UNCHANGED)\n",
    "        grayscale_image = cv2.cvtColor(img, cv2.COLOR_BGR2GRAY)\n",
    "        noisy_sigma = 35\n",
    "        noisy_image = add_gaussian_noise(grayscale_image, noisy_sigma)\n",
    "        noisy_mask = add_gaussian_noise(mask, noisy_sigma)\n",
    "        cv2.imwrite(f'data_aug/train/images_gaussian noise/{fname}.png', noisy_image)\n",
    "        cv2.imwrite(f'data_aug/train/masks_gaussian noise/{fname}.png', noisy_mask)"
   ]
  },
  {
   "cell_type": "code",
   "execution_count": 11,
   "metadata": {},
   "outputs": [],
   "source": [
    "save_image_gaussian_noise()"
   ]
  },
  {
   "cell_type": "code",
   "execution_count": 4,
   "metadata": {},
   "outputs": [],
   "source": [
    "def save_image_gaussian_noise_crop():\n",
    "    if not os.path.exists('data_aug/train_crop/images_gaussian noise/'):\n",
    "        os.makedirs('data_aug/train_crop/images_gaussian noise/')\n",
    "    if not os.path.exists('data_aug/train_crop/masks_gaussian noise/'):\n",
    "        os.makedirs('data_aug/train_crop/masks_gaussian noise/')\n",
    "    for fname in fnames.id:\n",
    "        imgLeftUpper = cv2.imread(f'data_aug/train_crop/images/{fname}-leftUpper.png', cv2.IMREAD_UNCHANGED)\n",
    "        maskLeftUpper = cv2.imread(f'data_aug/train_crop/masks/{fname}-leftUpper.png', cv2.IMREAD_UNCHANGED)\n",
    "        imgLeftBottom = cv2.imread(f'data_aug/train_crop/images/{fname}-leftBottom.png', cv2.IMREAD_UNCHANGED)\n",
    "        maskLeftBottom = cv2.imread(f'data_aug/train_crop/masks/{fname}-leftBottom.png', cv2.IMREAD_UNCHANGED)\n",
    "        imgRightUpper = cv2.imread(f'data_aug/train_crop/images/{fname}-rightUpper.png', cv2.IMREAD_UNCHANGED)\n",
    "        maskRightUpper = cv2.imread(f'data_aug/train_crop/masks/{fname}-rightUpper.png', cv2.IMREAD_UNCHANGED)\n",
    "        imgRightBottom = cv2.imread(f'data_aug/train_crop/images/{fname}-rightBottom.png', cv2.IMREAD_UNCHANGED)\n",
    "        maskRightBottom = cv2.imread(f'data_aug/train_crop/masks/{fname}-rightBottom.png', cv2.IMREAD_UNCHANGED)\n",
    "        \n",
    "        imgLeftUpper = cv2.cvtColor(imgLeftUpper, cv2.COLOR_BGR2GRAY)\n",
    "        imgLeftBottom = cv2.cvtColor(imgLeftBottom, cv2.COLOR_BGR2GRAY)\n",
    "        imgRightUpper = cv2.cvtColor(imgRightUpper, cv2.COLOR_BGR2GRAY)\n",
    "        imgRightBottom = cv2.cvtColor(imgRightBottom, cv2.COLOR_BGR2GRAY)\n",
    "        \n",
    "        noisy_sigma = 35\n",
    "\n",
    "        imgLeftUpper = add_gaussian_noise(imgLeftUpper, noisy_sigma)\n",
    "        imgLeftBottom = add_gaussian_noise(imgLeftBottom, noisy_sigma)\n",
    "        imgRightUpper = add_gaussian_noise(imgRightUpper, noisy_sigma)\n",
    "        imgRightBottom = add_gaussian_noise(imgRightBottom, noisy_sigma)\n",
    "        \n",
    "        maskLeftUpper = add_gaussian_noise(maskLeftUpper, noisy_sigma)\n",
    "        maskLeftBottom = add_gaussian_noise(maskLeftBottom, noisy_sigma)\n",
    "        maskRightUpper = add_gaussian_noise(maskRightUpper, noisy_sigma)\n",
    "        maskRightBottom = add_gaussian_noise(maskRightBottom, noisy_sigma)\n",
    "\n",
    "        cv2.imwrite(f'data_aug/train_crop/images_gaussian noise/{fname}-leftUpper.png', imgLeftUpper)\n",
    "        cv2.imwrite(f'data_aug/train_crop/masks_gaussian noise/{fname}-leftUpper.png', maskLeftUpper)\n",
    "        cv2.imwrite(f'data_aug/train_crop/images_gaussian noise/{fname}-leftBottom.png', imgLeftBottom)\n",
    "        cv2.imwrite(f'data_aug/train_crop/masks_gaussian noise/{fname}-leftBottom.png', maskLeftBottom)\n",
    "        cv2.imwrite(f'data_aug/train_crop/images_gaussian noise/{fname}-rightUpper.png', imgRightUpper)\n",
    "        cv2.imwrite(f'data_aug/train_crop/masks_gaussian noise/{fname}-rightUpper.png', maskRightUpper)\n",
    "        cv2.imwrite(f'data_aug/train_crop/images_gaussian noise/{fname}-rightBottom.png', imgRightBottom)\n",
    "        cv2.imwrite(f'data_aug/train_crop/masks_gaussian noise/{fname}-rightBottom.png', maskRightBottom)"
   ]
  },
  {
   "cell_type": "code",
   "execution_count": 5,
   "metadata": {},
   "outputs": [],
   "source": [
    "save_image_gaussian_noise_crop()"
   ]
  },
  {
   "cell_type": "code",
   "execution_count": null,
   "metadata": {},
   "outputs": [],
   "source": []
  }
 ],
 "metadata": {
  "kernelspec": {
   "display_name": "Python 3",
   "language": "python",
   "name": "python3"
  },
  "language_info": {
   "codemirror_mode": {
    "name": "ipython",
    "version": 3
   },
   "file_extension": ".py",
   "mimetype": "text/x-python",
   "name": "python",
   "nbconvert_exporter": "python",
   "pygments_lexer": "ipython3",
   "version": "3.6.6"
  }
 },
 "nbformat": 4,
 "nbformat_minor": 2
}
