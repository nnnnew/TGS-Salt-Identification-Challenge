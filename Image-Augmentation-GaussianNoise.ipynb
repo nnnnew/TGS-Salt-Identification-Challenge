{
 "cells": [
  {
   "cell_type": "code",
   "execution_count": 3,
   "metadata": {},
   "outputs": [],
   "source": [
    "from matplotlib.pyplot import imshow\n",
    "import pandas as pd\n",
    "import os\n",
    "import cv2\n",
    "import numpy as np"
   ]
  },
  {
   "cell_type": "code",
   "execution_count": 4,
   "metadata": {},
   "outputs": [],
   "source": [
    "fnames = pd.read_csv('data/train.csv', usecols=['id'])"
   ]
  },
  {
   "cell_type": "code",
   "execution_count": 5,
   "metadata": {},
   "outputs": [],
   "source": [
    "def add_gaussian_noise(image_in, noise_sigma):\n",
    "    temp_image = np.float64(np.copy(image_in))\n",
    "\n",
    "    h = temp_image.shape[0]\n",
    "    w = temp_image.shape[1]\n",
    "    noise = np.random.randn(h, w) * noise_sigma\n",
    "\n",
    "    noisy_image = np.zeros(temp_image.shape, np.float64)\n",
    "    if len(temp_image.shape) == 2:\n",
    "        noisy_image = temp_image + noise\n",
    "    else:\n",
    "        noisy_image[:,:,0] = temp_image[:,:,0] + noise\n",
    "        noisy_image[:,:,1] = temp_image[:,:,1] + noise\n",
    "        noisy_image[:,:,2] = temp_image[:,:,2] + noise\n",
    "\n",
    "    \"\"\"\n",
    "    print('min,max = ', np.min(noisy_image), np.max(noisy_image))\n",
    "    print('type = ', type(noisy_image[0][0][0]))\n",
    "    \"\"\"\n",
    "\n",
    "    return noisy_image"
   ]
  },
  {
   "cell_type": "code",
   "execution_count": 10,
   "metadata": {},
   "outputs": [],
   "source": [
    "def save_image_gaussian_noise():\n",
    "    if not os.path.exists('data_aug/train/images_gaussian noise/'):\n",
    "        os.makedirs('data_aug/train/images_gaussian noise/')\n",
    "    if not os.path.exists('data_aug/train/masks_gaussian noise/'):\n",
    "        os.makedirs('data_aug/train/masks_gaussian noise/')\n",
    "    for fname in fnames.id:\n",
    "        img = cv2.imread(f'data/train/images/{fname}.png', cv2.IMREAD_UNCHANGED)\n",
    "        mask = cv2.imread(f'data/train/masks/{fname}.png', cv2.IMREAD_UNCHANGED)\n",
    "        grayscale_image = cv2.cvtColor(img, cv2.COLOR_BGR2GRAY)\n",
    "        noisy_sigma = 35\n",
    "        noisy_image = add_gaussian_noise(grayscale_image, noisy_sigma)\n",
    "        noisy_mask = add_gaussian_noise(mask, noisy_sigma)\n",
    "        cv2.imwrite(f'data_aug/train/images_gaussian noise/{fname}.png', noisy_image)\n",
    "        cv2.imwrite(f'data_aug/train/masks_gaussian noise/{fname}.png', noisy_mask)"
   ]
  },
  {
   "cell_type": "code",
   "execution_count": 11,
   "metadata": {},
   "outputs": [],
   "source": [
    "save_image_gaussian_noise()"
   ]
  },
  {
   "cell_type": "code",
   "execution_count": null,
   "metadata": {},
   "outputs": [],
   "source": []
  }
 ],
 "metadata": {
  "kernelspec": {
   "display_name": "Python 3",
   "language": "python",
   "name": "python3"
  },
  "language_info": {
   "codemirror_mode": {
    "name": "ipython",
    "version": 3
   },
   "file_extension": ".py",
   "mimetype": "text/x-python",
   "name": "python",
   "nbconvert_exporter": "python",
   "pygments_lexer": "ipython3",
   "version": "3.6.6"
  }
 },
 "nbformat": 4,
 "nbformat_minor": 2
}
