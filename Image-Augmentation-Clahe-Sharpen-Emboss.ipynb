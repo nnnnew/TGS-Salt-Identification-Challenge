{
 "cells": [
  {
   "cell_type": "code",
   "execution_count": 10,
   "metadata": {},
   "outputs": [],
   "source": [
    "from PIL import Image,ImageFilter\n",
    "from matplotlib.pyplot import imshow\n",
    "import pandas as pd\n",
    "import os"
   ]
  },
  {
   "cell_type": "code",
   "execution_count": 11,
   "metadata": {},
   "outputs": [],
   "source": [
    "fnames = pd.read_csv('data/train.csv', usecols=['id'])"
   ]
  },
  {
   "cell_type": "code",
   "execution_count": 10,
   "metadata": {},
   "outputs": [],
   "source": [
    "def save_image_sharp():\n",
    "    if not os.path.exists('data_aug/train/images_sharp/'):\n",
    "        os.makedirs('data_aug/train/images_sharp/')\n",
    "    if not os.path.exists('data_aug/train/masks_sharp/'):\n",
    "        os.makedirs('data_aug/train/masks_sharp/')\n",
    "    for fname in fnames.id:\n",
    "        img = Image.open(f'data/train/images/{fname}.png')\n",
    "        mask = Image.open(f'data/train/masks/{fname}.png')\n",
    "        mask = mask.convert('RGB')\n",
    "        imgSharp = img.filter(ImageFilter.SHARPEN)\n",
    "        maskSharp = mask.filter(ImageFilter.SHARPEN)\n",
    "        \n",
    "        imgSharp.save(f'data_aug/train/images_sharp/{fname}.png')\n",
    "        maskSharp.save(f'data_aug/train/masks_sharp/{fname}.png')"
   ]
  },
  {
   "cell_type": "code",
   "execution_count": 6,
   "metadata": {},
   "outputs": [],
   "source": [
    "save_image_sharp()"
   ]
  },
  {
   "cell_type": "code",
   "execution_count": 1,
   "metadata": {},
   "outputs": [],
   "source": [
    "def save_image_sharp_crop():\n",
    "    if not os.path.exists('data_aug/train_crop/images_sharp/'):\n",
    "        os.makedirs('data_aug/train_crop/images_sharp/')\n",
    "    if not os.path.exists('data_aug/train_crop/masks_sharp/'):\n",
    "        os.makedirs('data_aug/train_crop/masks_sharp/')\n",
    "    for fname in fnames.id:\n",
    "        imgLeftUpper = Image.open(f'data_aug/train_crop/images/{fname}-leftUpper.png')\n",
    "        maskLeftUpper = Image.open(f'data_aug/train_crop/masks/{fname}-leftUpper.png')\n",
    "        imgLeftBottom = Image.open(f'data_aug/train_crop/images/{fname}-leftBottom.png')\n",
    "        maskLeftBottom = Image.open(f'data_aug/train_crop/masks/{fname}-leftBottom.png')\n",
    "        imgRightUpper = Image.open(f'data_aug/train_crop/images/{fname}-rightUpper.png')\n",
    "        maskRightUpper = Image.open(f'data_aug/train_crop/masks/{fname}-rightUpper.png')\n",
    "        imgRightBottom = Image.open(f'data_aug/train_crop/images/{fname}-rightBottom.png')\n",
    "        maskRightBottom = Image.open(f'data_aug/train_crop/masks/{fname}-rightBottom.png')\n",
    "        \n",
    "        maskLeftUpper = maskLeftUpper.convert('RGB')\n",
    "        maskLeftBottom = maskLeftBottom.convert('RGB')\n",
    "        maskRightUpper = maskRightUpper.convert('RGB')\n",
    "        maskRightBottom = maskRightBottom.convert('RGB')\n",
    "        \n",
    "        imgLeftUpper = imgLeftUpper.filter(ImageFilter.SHARPEN)\n",
    "        imgLeftBottom = imgLeftBottom.filter(ImageFilter.SHARPEN)\n",
    "        imgRightUpper = imgRightUpper.filter(ImageFilter.SHARPEN)\n",
    "        imgRightBottom = imgRightBottom.filter(ImageFilter.SHARPEN)\n",
    "        \n",
    "        maskLeftUpper = maskLeftUpper.filter(ImageFilter.SHARPEN)\n",
    "        maskLeftBottom = maskLeftBottom.filter(ImageFilter.SHARPEN)\n",
    "        maskRightUpper = maskRightUpper.filter(ImageFilter.SHARPEN)\n",
    "        maskRightBottom = maskRightBottom.filter(ImageFilter.SHARPEN)\n",
    "\n",
    "        imgLeftUpper.save(f'data_aug/train_crop/images_sharp/{fname}-leftUpper.png')\n",
    "        maskLeftUpper.save(f'data_aug/train_crop/masks_sharp/{fname}-leftUpper.png')\n",
    "        imgLeftBottom.save(f'data_aug/train_crop/images_sharp/{fname}-leftBottom.png')\n",
    "        maskLeftBottom.save(f'data_aug/train_crop/masks_sharp/{fname}-leftBottom.png')\n",
    "        imgRightUpper.save(f'data_aug/train_crop/images_sharp/{fname}-rightUpper.png')\n",
    "        maskRightUpper.save(f'data_aug/train_crop/masks_sharp/{fname}-rightUpper.png')\n",
    "        imgRightBottom.save(f'data_aug/train_crop/images_sharp/{fname}-rightBottom.png')\n",
    "        maskRightBottom.save(f'data_aug/train_crop/masks_sharp/{fname}-rightBottom.png')"
   ]
  },
  {
   "cell_type": "code",
   "execution_count": 4,
   "metadata": {},
   "outputs": [],
   "source": [
    "save_image_sharp_crop()"
   ]
  },
  {
   "cell_type": "code",
   "execution_count": 8,
   "metadata": {},
   "outputs": [],
   "source": [
    "def save_image_emboss():\n",
    "    if not os.path.exists('data_aug/train/images_emboss/'):\n",
    "        os.makedirs('data_aug/train/images_emboss/')\n",
    "    if not os.path.exists('data_aug/train/masks_emboss/'):\n",
    "        os.makedirs('data_aug/train/masks_emboss/')\n",
    "    for fname in fnames.id:\n",
    "        img = Image.open(f'data/train/images/{fname}.png')\n",
    "        mask = Image.open(f'data/train/masks/{fname}.png')\n",
    "        mask = mask.convert('RGB')\n",
    "        imgSharp = img.filter(ImageFilter.EMBOSS)\n",
    "        maskSharp = mask.filter(ImageFilter.EMBOSS)\n",
    "        \n",
    "        imgSharp.save(f'data_aug/train/images_emboss/{fname}.png')\n",
    "        maskSharp.save(f'data_aug/train/masks_emboss/{fname}.png')"
   ]
  },
  {
   "cell_type": "code",
   "execution_count": 9,
   "metadata": {},
   "outputs": [],
   "source": [
    "save_image_emboss()"
   ]
  },
  {
   "cell_type": "code",
   "execution_count": 5,
   "metadata": {},
   "outputs": [],
   "source": [
    "def save_image_emboss_crop():\n",
    "    if not os.path.exists('data_aug/train_crop/images_emboss/'):\n",
    "        os.makedirs('data_aug/train_crop/images_emboss/')\n",
    "    if not os.path.exists('data_aug/train_crop/masks_emboss/'):\n",
    "        os.makedirs('data_aug/train_crop/masks_emboss/')\n",
    "    for fname in fnames.id:\n",
    "        imgLeftUpper = Image.open(f'data_aug/train_crop/images/{fname}-leftUpper.png')\n",
    "        maskLeftUpper = Image.open(f'data_aug/train_crop/masks/{fname}-leftUpper.png')\n",
    "        imgLeftBottom = Image.open(f'data_aug/train_crop/images/{fname}-leftBottom.png')\n",
    "        maskLeftBottom = Image.open(f'data_aug/train_crop/masks/{fname}-leftBottom.png')\n",
    "        imgRightUpper = Image.open(f'data_aug/train_crop/images/{fname}-rightUpper.png')\n",
    "        maskRightUpper = Image.open(f'data_aug/train_crop/masks/{fname}-rightUpper.png')\n",
    "        imgRightBottom = Image.open(f'data_aug/train_crop/images/{fname}-rightBottom.png')\n",
    "        maskRightBottom = Image.open(f'data_aug/train_crop/masks/{fname}-rightBottom.png')\n",
    "        \n",
    "        maskLeftUpper = maskLeftUpper.convert('RGB')\n",
    "        maskLeftBottom = maskLeftBottom.convert('RGB')\n",
    "        maskRightUpper = maskRightUpper.convert('RGB')\n",
    "        maskRightBottom = maskRightBottom.convert('RGB')\n",
    "        \n",
    "        imgLeftUpper = imgLeftUpper.filter(ImageFilter.EMBOSS)\n",
    "        imgLeftBottom = imgLeftBottom.filter(ImageFilter.EMBOSS)\n",
    "        imgRightUpper = imgRightUpper.filter(ImageFilter.EMBOSS)\n",
    "        imgRightBottom = imgRightBottom.filter(ImageFilter.EMBOSS)\n",
    "        \n",
    "        maskLeftUpper = maskLeftUpper.filter(ImageFilter.EMBOSS)\n",
    "        maskLeftBottom = maskLeftBottom.filter(ImageFilter.EMBOSS)\n",
    "        maskRightUpper = maskRightUpper.filter(ImageFilter.EMBOSS)\n",
    "        maskRightBottom = maskRightBottom.filter(ImageFilter.EMBOSS)\n",
    "\n",
    "        imgLeftUpper.save(f'data_aug/train_crop/images_emboss/{fname}-leftUpper.png')\n",
    "        maskLeftUpper.save(f'data_aug/train_crop/masks_emboss/{fname}-leftUpper.png')\n",
    "        imgLeftBottom.save(f'data_aug/train_crop/images_emboss/{fname}-leftBottom.png')\n",
    "        maskLeftBottom.save(f'data_aug/train_crop/masks_emboss/{fname}-leftBottom.png')\n",
    "        imgRightUpper.save(f'data_aug/train_crop/images_emboss/{fname}-rightUpper.png')\n",
    "        maskRightUpper.save(f'data_aug/train_crop/masks_emboss/{fname}-rightUpper.png')\n",
    "        imgRightBottom.save(f'data_aug/train_crop/images_emboss/{fname}-rightBottom.png')\n",
    "        maskRightBottom.save(f'data_aug/train_crop/masks_emboss/{fname}-rightBottom.png')"
   ]
  },
  {
   "cell_type": "code",
   "execution_count": 6,
   "metadata": {},
   "outputs": [],
   "source": [
    "save_image_emboss_crop()"
   ]
  },
  {
   "cell_type": "code",
   "execution_count": 12,
   "metadata": {},
   "outputs": [],
   "source": [
    "import numpy as np\n",
    "import cv2"
   ]
  },
  {
   "cell_type": "code",
   "execution_count": 27,
   "metadata": {},
   "outputs": [],
   "source": [
    "def save_image_clahe():\n",
    "    if not os.path.exists('data_aug/train/images_clahe/'):\n",
    "        os.makedirs('data_aug/train/images_clahe/')\n",
    "    if not os.path.exists('data_aug/train/masks_clahe/'):\n",
    "        os.makedirs('data_aug/train/masks_clahe/')\n",
    "    for fname in fnames.id:\n",
    "        img = cv2.imread(f'data/train/images/{fname}.png', 0)\n",
    "        mask = cv2.imread(f'data/train/masks/{fname}.png', 0)\n",
    "        clahe = cv2.createCLAHE(clipLimit=2.0, tileGridSize=(8,8))\n",
    "        cl1 = clahe.apply(img)\n",
    "        cl2 = clahe.apply(mask)\n",
    "        \n",
    "        cv2.imwrite(f'data_aug/train/images_clahe/{fname}.png', cl1)\n",
    "        cv2.imwrite(f'data_aug/train/masks_clahe/{fname}.png', cl2)"
   ]
  },
  {
   "cell_type": "code",
   "execution_count": 28,
   "metadata": {},
   "outputs": [],
   "source": [
    "save_image_clahe()"
   ]
  },
  {
   "cell_type": "code",
   "execution_count": 8,
   "metadata": {},
   "outputs": [],
   "source": [
    "def save_image_clahe_crop():\n",
    "    if not os.path.exists('data_aug/train_crop/images_clahe/'):\n",
    "        os.makedirs('data_aug/train_crop/images_clahe/')\n",
    "    if not os.path.exists('data_aug/train_crop/masks_clahe/'):\n",
    "        os.makedirs('data_aug/train_crop/masks_clahe/')\n",
    "    for fname in fnames.id:\n",
    "        imgLeftUpper = cv2.imread(f'data_aug/train_crop/images/{fname}-leftUpper.png', 0)\n",
    "        maskLeftUpper = cv2.imread(f'data_aug/train_crop/masks/{fname}-leftUpper.png', 0)\n",
    "        imgLeftBottom = cv2.imread(f'data_aug/train_crop/images/{fname}-leftBottom.png', 0)\n",
    "        maskLeftBottom = cv2.imread(f'data_aug/train_crop/masks/{fname}-leftBottom.png', 0)\n",
    "        imgRightUpper = cv2.imread(f'data_aug/train_crop/images/{fname}-rightUpper.png', 0)\n",
    "        maskRightUpper = cv2.imread(f'data_aug/train_crop/masks/{fname}-rightUpper.png', 0)\n",
    "        imgRightBottom = cv2.imread(f'data_aug/train_crop/images/{fname}-rightBottom.png', 0)\n",
    "        maskRightBottom = cv2.imread(f'data_aug/train_crop/masks/{fname}-rightBottom.png', 0)\n",
    "        \n",
    "        clahe = cv2.createCLAHE(clipLimit=2.0, tileGridSize=(8,8))\n",
    "        \n",
    "        imgLeftUpper = clahe.apply(imgLeftUpper)\n",
    "        imgLeftBottom = clahe.apply(imgLeftBottom)\n",
    "        imgRightUpper = clahe.apply(imgRightUpper)\n",
    "        imgRightBottom = clahe.apply(imgRightBottom)\n",
    "        \n",
    "        maskLeftUpper = clahe.apply(maskLeftUpper)\n",
    "        maskLeftBottom = clahe.apply(maskLeftBottom)\n",
    "        maskRightUpper = clahe.apply(maskRightUpper)\n",
    "        maskRightBottom = clahe.apply(maskRightBottom)\n",
    "\n",
    "        cv2.imwrite(f'data_aug/train_crop/images_clahe/{fname}-leftUpper.png', imgLeftUpper)\n",
    "        cv2.imwrite(f'data_aug/train_crop/masks_clahe/{fname}-leftUpper.png', maskLeftUpper)\n",
    "        cv2.imwrite(f'data_aug/train_crop/images_clahe/{fname}-leftBottom.png', imgLeftBottom)\n",
    "        cv2.imwrite(f'data_aug/train_crop/masks_clahe/{fname}-leftBottom.png', maskLeftBottom)\n",
    "        cv2.imwrite(f'data_aug/train_crop/images_clahe/{fname}-rightUpper.png', imgRightUpper)\n",
    "        cv2.imwrite(f'data_aug/train_crop/masks_clahe/{fname}-rightUpper.png', maskRightUpper)\n",
    "        cv2.imwrite(f'data_aug/train_crop/images_clahe/{fname}-rightBottom.png', imgRightBottom)\n",
    "        cv2.imwrite(f'data_aug/train_crop/masks_clahe/{fname}-rightBottom.png', maskRightBottom)"
   ]
  },
  {
   "cell_type": "code",
   "execution_count": 13,
   "metadata": {},
   "outputs": [],
   "source": [
    "save_image_clahe_crop()"
   ]
  },
  {
   "cell_type": "code",
   "execution_count": null,
   "metadata": {},
   "outputs": [],
   "source": []
  }
 ],
 "metadata": {
  "kernelspec": {
   "display_name": "Python 3",
   "language": "python",
   "name": "python3"
  },
  "language_info": {
   "codemirror_mode": {
    "name": "ipython",
    "version": 3
   },
   "file_extension": ".py",
   "mimetype": "text/x-python",
   "name": "python",
   "nbconvert_exporter": "python",
   "pygments_lexer": "ipython3",
   "version": "3.6.6"
  }
 },
 "nbformat": 4,
 "nbformat_minor": 2
}
